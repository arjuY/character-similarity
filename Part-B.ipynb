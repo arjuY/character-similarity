{
  "cells": [
    {
      "cell_type": "markdown",
      "metadata": {
        "id": "8GOqW5xHSJIg"
      },
      "source": [
        "# NLP: Vector Space Semantics for Similarity between Eastenders Characters\n"
      ]
    },
    {
      "cell_type": "code",
      "execution_count": 509,
      "metadata": {
        "colab": {
          "base_uri": "https://localhost:8080/"
        },
        "id": "ywHLS-RzSJIl",
        "outputId": "fc168154-fb46-4b9f-ed68-d22943458e4f"
      },
      "outputs": [
        {
          "name": "stdout",
          "output_type": "stream",
          "text": [
            "Looking in indexes: https://pypi.org/simple, https://us-python.pkg.dev/colab-wheels/public/simple/\n",
            "Requirement already satisfied: nltk in /usr/local/lib/python3.8/dist-packages (3.7)\n",
            "Requirement already satisfied: tqdm in /usr/local/lib/python3.8/dist-packages (from nltk) (4.64.1)\n",
            "Requirement already satisfied: joblib in /usr/local/lib/python3.8/dist-packages (from nltk) (1.2.0)\n",
            "Requirement already satisfied: click in /usr/local/lib/python3.8/dist-packages (from nltk) (7.1.2)\n",
            "Requirement already satisfied: regex>=2021.8.3 in /usr/local/lib/python3.8/dist-packages (from nltk) (2022.6.2)\n"
          ]
        }
      ],
      "source": [
        "!pip install nltk"
      ]
    },
    {
      "cell_type": "code",
      "execution_count": 510,
      "metadata": {
        "id": "nIfgKh7BSJIo"
      },
      "outputs": [],
      "source": [
        "import string\n",
        "import re\n",
        "import numpy as np\n",
        "from numpy.linalg import norm\n",
        "import pandas as pd\n",
        "from collections import Counter, OrderedDict\n",
        "\n",
        "import seaborn as sns\n",
        "import matplotlib.pyplot as plt\n",
        "\n",
        "import nltk\n",
        "\n",
        "from sklearn.feature_extraction import DictVectorizer\n",
        "from sklearn.feature_extraction.text import TfidfTransformer\n",
        "\n",
        "%matplotlib inline\n",
        "pd.options.display.max_colwidth=500"
      ]
    },
    {
      "cell_type": "code",
      "execution_count": 511,
      "metadata": {
        "colab": {
          "base_uri": "https://localhost:8080/",
          "height": 1000
        },
        "id": "M3BguJ3USJIp",
        "outputId": "5299ae36-67d7-44f1-b1ae-26bba146ecb4"
      },
      "outputs": [
        {
          "data": {
            "text/html": [
              "\n",
              "  <div id=\"df-b85f86cb-61f1-4669-96e2-a0215d377631\">\n",
              "    <div class=\"colab-df-container\">\n",
              "      <div>\n",
              "<style scoped>\n",
              "    .dataframe tbody tr th:only-of-type {\n",
              "        vertical-align: middle;\n",
              "    }\n",
              "\n",
              "    .dataframe tbody tr th {\n",
              "        vertical-align: top;\n",
              "    }\n",
              "\n",
              "    .dataframe thead th {\n",
              "        text-align: right;\n",
              "    }\n",
              "</style>\n",
              "<table border=\"1\" class=\"dataframe\">\n",
              "  <thead>\n",
              "    <tr style=\"text-align: right;\">\n",
              "      <th></th>\n",
              "      <th>Episode</th>\n",
              "      <th>Scene</th>\n",
              "      <th>Scene_info</th>\n",
              "      <th>Character_name</th>\n",
              "      <th>Line</th>\n",
              "      <th>Gender</th>\n",
              "    </tr>\n",
              "  </thead>\n",
              "  <tbody>\n",
              "    <tr>\n",
              "      <th>0</th>\n",
              "      <td>1350</td>\n",
              "      <td>1</td>\n",
              "      <td>DESERTED CAR PARK EXT NIGHT</td>\n",
              "      <td>SHIRLEY</td>\n",
              "      <td>Look at ya, not a mark on ya. And you think you're an unlucky man.</td>\n",
              "      <td>FEMALE</td>\n",
              "    </tr>\n",
              "    <tr>\n",
              "      <th>1</th>\n",
              "      <td>1350</td>\n",
              "      <td>1</td>\n",
              "      <td>DESERTED CAR PARK EXT NIGHT</td>\n",
              "      <td>OTHER</td>\n",
              "      <td>Shirl...</td>\n",
              "      <td>MALE</td>\n",
              "    </tr>\n",
              "    <tr>\n",
              "      <th>2</th>\n",
              "      <td>1350</td>\n",
              "      <td>2</td>\n",
              "      <td>R&amp;R INT NIGHT</td>\n",
              "      <td>JACK</td>\n",
              "      <td>Oi. Where have you been? Huh? What were the texts about?</td>\n",
              "      <td>MALE</td>\n",
              "    </tr>\n",
              "    <tr>\n",
              "      <th>3</th>\n",
              "      <td>1350</td>\n",
              "      <td>2</td>\n",
              "      <td>R&amp;R INT NIGHT</td>\n",
              "      <td>RONNIE</td>\n",
              "      <td>Nothing. Nothing. I'll be with you in two minutes yeah?</td>\n",
              "      <td>FEMALE</td>\n",
              "    </tr>\n",
              "    <tr>\n",
              "      <th>4</th>\n",
              "      <td>1350</td>\n",
              "      <td>2</td>\n",
              "      <td>R&amp;R INT NIGHT</td>\n",
              "      <td>JACK</td>\n",
              "      <td>Well I've got mates here I wanted to have a chat with them, instead I've been serving behind the bar.</td>\n",
              "      <td>MALE</td>\n",
              "    </tr>\n",
              "    <tr>\n",
              "      <th>...</th>\n",
              "      <td>...</td>\n",
              "      <td>...</td>\n",
              "      <td>...</td>\n",
              "      <td>...</td>\n",
              "      <td>...</td>\n",
              "      <td>...</td>\n",
              "    </tr>\n",
              "    <tr>\n",
              "      <th>15314</th>\n",
              "      <td>1399</td>\n",
              "      <td>55</td>\n",
              "      <td>SQUARE EXT DAY LIGHT</td>\n",
              "      <td>OTHER</td>\n",
              "      <td>Dad? Okay ... alright, just one drink alright. But that's all. It doesn't mean anything. It's just a drink.</td>\n",
              "      <td>MALE</td>\n",
              "    </tr>\n",
              "    <tr>\n",
              "      <th>15315</th>\n",
              "      <td>1399</td>\n",
              "      <td>55</td>\n",
              "      <td>SQUARE EXT DAY LIGHT</td>\n",
              "      <td>MAX</td>\n",
              "      <td>Thanks Bradley. Thanks mate... It means the world to me...</td>\n",
              "      <td>MALE</td>\n",
              "    </tr>\n",
              "    <tr>\n",
              "      <th>15316</th>\n",
              "      <td>1399</td>\n",
              "      <td>55</td>\n",
              "      <td>SQUARE EXT DAY LIGHT</td>\n",
              "      <td>OTHER</td>\n",
              "      <td>You alright...</td>\n",
              "      <td>MALE</td>\n",
              "    </tr>\n",
              "    <tr>\n",
              "      <th>15317</th>\n",
              "      <td>1399</td>\n",
              "      <td>55</td>\n",
              "      <td>SQUARE EXT DAY LIGHT</td>\n",
              "      <td>MAX</td>\n",
              "      <td>Yeah, yeah, yeah. I'm fine.</td>\n",
              "      <td>MALE</td>\n",
              "    </tr>\n",
              "    <tr>\n",
              "      <th>15318</th>\n",
              "      <td>1399</td>\n",
              "      <td>55</td>\n",
              "      <td>SQUARE EXT DAY LIGHT</td>\n",
              "      <td>OTHER</td>\n",
              "      <td>Well, let me know.</td>\n",
              "      <td>MALE</td>\n",
              "    </tr>\n",
              "  </tbody>\n",
              "</table>\n",
              "<p>15319 rows × 6 columns</p>\n",
              "</div>\n",
              "      <button class=\"colab-df-convert\" onclick=\"convertToInteractive('df-b85f86cb-61f1-4669-96e2-a0215d377631')\"\n",
              "              title=\"Convert this dataframe to an interactive table.\"\n",
              "              style=\"display:none;\">\n",
              "        \n",
              "  <svg xmlns=\"http://www.w3.org/2000/svg\" height=\"24px\"viewBox=\"0 0 24 24\"\n",
              "       width=\"24px\">\n",
              "    <path d=\"M0 0h24v24H0V0z\" fill=\"none\"/>\n",
              "    <path d=\"M18.56 5.44l.94 2.06.94-2.06 2.06-.94-2.06-.94-.94-2.06-.94 2.06-2.06.94zm-11 1L8.5 8.5l.94-2.06 2.06-.94-2.06-.94L8.5 2.5l-.94 2.06-2.06.94zm10 10l.94 2.06.94-2.06 2.06-.94-2.06-.94-.94-2.06-.94 2.06-2.06.94z\"/><path d=\"M17.41 7.96l-1.37-1.37c-.4-.4-.92-.59-1.43-.59-.52 0-1.04.2-1.43.59L10.3 9.45l-7.72 7.72c-.78.78-.78 2.05 0 2.83L4 21.41c.39.39.9.59 1.41.59.51 0 1.02-.2 1.41-.59l7.78-7.78 2.81-2.81c.8-.78.8-2.07 0-2.86zM5.41 20L4 18.59l7.72-7.72 1.47 1.35L5.41 20z\"/>\n",
              "  </svg>\n",
              "      </button>\n",
              "      \n",
              "  <style>\n",
              "    .colab-df-container {\n",
              "      display:flex;\n",
              "      flex-wrap:wrap;\n",
              "      gap: 12px;\n",
              "    }\n",
              "\n",
              "    .colab-df-convert {\n",
              "      background-color: #E8F0FE;\n",
              "      border: none;\n",
              "      border-radius: 50%;\n",
              "      cursor: pointer;\n",
              "      display: none;\n",
              "      fill: #1967D2;\n",
              "      height: 32px;\n",
              "      padding: 0 0 0 0;\n",
              "      width: 32px;\n",
              "    }\n",
              "\n",
              "    .colab-df-convert:hover {\n",
              "      background-color: #E2EBFA;\n",
              "      box-shadow: 0px 1px 2px rgba(60, 64, 67, 0.3), 0px 1px 3px 1px rgba(60, 64, 67, 0.15);\n",
              "      fill: #174EA6;\n",
              "    }\n",
              "\n",
              "    [theme=dark] .colab-df-convert {\n",
              "      background-color: #3B4455;\n",
              "      fill: #D2E3FC;\n",
              "    }\n",
              "\n",
              "    [theme=dark] .colab-df-convert:hover {\n",
              "      background-color: #434B5C;\n",
              "      box-shadow: 0px 1px 3px 1px rgba(0, 0, 0, 0.15);\n",
              "      filter: drop-shadow(0px 1px 2px rgba(0, 0, 0, 0.3));\n",
              "      fill: #FFFFFF;\n",
              "    }\n",
              "  </style>\n",
              "\n",
              "      <script>\n",
              "        const buttonEl =\n",
              "          document.querySelector('#df-b85f86cb-61f1-4669-96e2-a0215d377631 button.colab-df-convert');\n",
              "        buttonEl.style.display =\n",
              "          google.colab.kernel.accessAllowed ? 'block' : 'none';\n",
              "\n",
              "        async function convertToInteractive(key) {\n",
              "          const element = document.querySelector('#df-b85f86cb-61f1-4669-96e2-a0215d377631');\n",
              "          const dataTable =\n",
              "            await google.colab.kernel.invokeFunction('convertToInteractive',\n",
              "                                                     [key], {});\n",
              "          if (!dataTable) return;\n",
              "\n",
              "          const docLinkHtml = 'Like what you see? Visit the ' +\n",
              "            '<a target=\"_blank\" href=https://colab.research.google.com/notebooks/data_table.ipynb>data table notebook</a>'\n",
              "            + ' to learn more about interactive tables.';\n",
              "          element.innerHTML = '';\n",
              "          dataTable['output_type'] = 'display_data';\n",
              "          await google.colab.output.renderOutput(dataTable, element);\n",
              "          const docLink = document.createElement('div');\n",
              "          docLink.innerHTML = docLinkHtml;\n",
              "          element.appendChild(docLink);\n",
              "        }\n",
              "      </script>\n",
              "    </div>\n",
              "  </div>\n",
              "  "
            ],
            "text/plain": [
              "       Episode  Scene                   Scene_info Character_name  \\\n",
              "0         1350      1  DESERTED CAR PARK EXT NIGHT        SHIRLEY   \n",
              "1         1350      1  DESERTED CAR PARK EXT NIGHT          OTHER   \n",
              "2         1350      2                R&R INT NIGHT           JACK   \n",
              "3         1350      2                R&R INT NIGHT         RONNIE   \n",
              "4         1350      2                R&R INT NIGHT           JACK   \n",
              "...        ...    ...                          ...            ...   \n",
              "15314     1399     55         SQUARE EXT DAY LIGHT          OTHER   \n",
              "15315     1399     55         SQUARE EXT DAY LIGHT            MAX   \n",
              "15316     1399     55         SQUARE EXT DAY LIGHT          OTHER   \n",
              "15317     1399     55         SQUARE EXT DAY LIGHT            MAX   \n",
              "15318     1399     55         SQUARE EXT DAY LIGHT          OTHER   \n",
              "\n",
              "                                                                                                              Line  \\\n",
              "0                                               Look at ya, not a mark on ya. And you think you're an unlucky man.   \n",
              "1                                                                                                         Shirl...   \n",
              "2                                                         Oi. Where have you been? Huh? What were the texts about?   \n",
              "3                                                          Nothing. Nothing. I'll be with you in two minutes yeah?   \n",
              "4            Well I've got mates here I wanted to have a chat with them, instead I've been serving behind the bar.   \n",
              "...                                                                                                            ...   \n",
              "15314  Dad? Okay ... alright, just one drink alright. But that's all. It doesn't mean anything. It's just a drink.   \n",
              "15315                                                   Thanks Bradley. Thanks mate... It means the world to me...   \n",
              "15316                                                                                               You alright...   \n",
              "15317                                                                                  Yeah, yeah, yeah. I'm fine.   \n",
              "15318                                                                                           Well, let me know.   \n",
              "\n",
              "       Gender  \n",
              "0      FEMALE  \n",
              "1        MALE  \n",
              "2        MALE  \n",
              "3      FEMALE  \n",
              "4        MALE  \n",
              "...       ...  \n",
              "15314    MALE  \n",
              "15315    MALE  \n",
              "15316    MALE  \n",
              "15317    MALE  \n",
              "15318    MALE  \n",
              "\n",
              "[15319 rows x 6 columns]"
            ]
          },
          "metadata": {},
          "output_type": "display_data"
        },
        {
          "name": "stdout",
          "output_type": "stream",
          "text": [
            "<class 'pandas.core.frame.DataFrame'>\n",
            "RangeIndex: 15319 entries, 0 to 15318\n",
            "Data columns (total 6 columns):\n",
            " #   Column          Non-Null Count  Dtype \n",
            "---  ------          --------------  ----- \n",
            " 0   Episode         15319 non-null  int64 \n",
            " 1   Scene           15319 non-null  int64 \n",
            " 2   Scene_info      15319 non-null  object\n",
            " 3   Character_name  15319 non-null  object\n",
            " 4   Line            15307 non-null  object\n",
            " 5   Gender          15319 non-null  object\n",
            "dtypes: int64(2), object(4)\n",
            "memory usage: 718.2+ KB\n",
            "number of scenes where each character appeared:\n"
          ]
        },
        {
          "data": {
            "text/plain": [
              "Character_name\n",
              "CHRISTIAN     385\n",
              "CLARE         405\n",
              "HEATHER       448\n",
              "IAN           909\n",
              "JACK          594\n",
              "JANE          671\n",
              "MAX           690\n",
              "MINTY         456\n",
              "OTHER        6369\n",
              "PHIL          500\n",
              "RONNIE        534\n",
              "ROXY          413\n",
              "SEAN          506\n",
              "SHIRLEY       572\n",
              "STACEY        625\n",
              "TANYA        1242\n",
              "Name: Scene, dtype: int64"
            ]
          },
          "metadata": {},
          "output_type": "display_data"
        },
        {
          "data": {
            "text/plain": [
              "CAFE INT DAY LIGHT                                949\n",
              "VIC DOWNSTAIRS INT DAY LIGHT                      830\n",
              "BRIDGE STREET EXT DAY LIGHT                       808\n",
              "[NAME] & [NAME]'S HOUSE INT DAY LIGHT             719\n",
              "VIC DOWNSTAIRS INT NIGHT                          634\n",
              "                                                 ... \n",
              "[NAME] & [NAME]'S HOUSE - LOUNGE INT DAY LIGHT      1\n",
              "[NAME]'S SHARED HOUSE EXT DAY LIGHT                 1\n",
              "CAFE EXT DAY LIGHT                                  1\n",
              "MORTUARY WAITING ROOM INT NIGHT                     1\n",
              "BRANNINGS' HOUSE, HALLWAY INT DAY LIGHT             1\n",
              "Name: Scene_info, Length: 244, dtype: int64"
            ]
          },
          "metadata": {},
          "output_type": "display_data"
        }
      ],
      "source": [
        "# Load in training data and display in pandas dataframe\n",
        "train_path='training.csv'\n",
        "all_train_data = pd.read_csv(train_path,  delimiter=\"\\t\", skip_blank_lines = True)\n",
        "test_path ='test.csv'\n",
        "test_data = pd.read_csv(test_path,  delimiter=\"\\t\", skip_blank_lines = True)\n",
        "\n",
        "# Inspect\n",
        "display(all_train_data)\n",
        "all_train_data.info()\n",
        "print(\"number of scenes where each character appeared:\")\n",
        "display(all_train_data.groupby(['Character_name'])['Scene'].count())\n",
        "display(all_train_data['Scene_info'].value_counts())"
      ]
    },
    {
      "cell_type": "code",
      "execution_count": 512,
      "metadata": {
        "colab": {
          "base_uri": "https://localhost:8080/"
        },
        "id": "3FNxlgeiSJIp",
        "outputId": "00a7b345-7c45-4ce4-ebad-af2a4d982630"
      },
      "outputs": [
        {
          "name": "stdout",
          "output_type": "stream",
          "text": [
            "1394\n",
            "1254 140\n"
          ]
        }
      ],
      "source": [
        "# Split into training and test data for heldout validation with random samples of 9:1 train/heldout split\n",
        "from random import shuffle, seed\n",
        "\n",
        "seed(0) # set a seed for reproducibility so same split is used each time\n",
        "\n",
        "epsiode_scene_column = all_train_data.Episode.astype(str) + \"-\" + all_train_data.Scene.astype(str)\n",
        "all_train_data['episode_scene'] = epsiode_scene_column\n",
        "episode_scenes = sorted(list(set([x for x in epsiode_scene_column.values]))) # need to sort to ensure same initial order\n",
        "\n",
        "shuffle(episode_scenes)\n",
        "\n",
        "print(len(episode_scenes))\n",
        "episode_split = int(0.9*len(episode_scenes))\n",
        "training_ep_scenes = episode_scenes[:episode_split]\n",
        "test_ep_scenes = episode_scenes[episode_split:]\n",
        "print(len(training_ep_scenes), len(test_ep_scenes))\n",
        "\n",
        "def train_or_heldout_eps(val):\n",
        "    if val in training_ep_scenes:\n",
        "        return \"training\"\n",
        "    return \"heldout\"\n",
        "\n",
        "all_train_data['train_heldout'] = all_train_data['episode_scene'].apply(train_or_heldout_eps)"
      ]
    },
    {
      "cell_type": "code",
      "execution_count": 513,
      "metadata": {
        "colab": {
          "base_uri": "https://localhost:8080/"
        },
        "id": "W_6DOd2DSJIq",
        "outputId": "7c30ffc3-1bc4-4eeb-e78b-55c73965c8f7"
      },
      "outputs": [
        {
          "name": "stdout",
          "output_type": "stream",
          "text": [
            "Raw Data:  (15319, 8)\n",
            "Train set:  (13638, 8)\n",
            "Validation set:  (1681, 8)\n"
          ]
        }
      ],
      "source": [
        "print('Raw Data: ',np.shape(all_train_data))\n",
        "train_data = all_train_data[all_train_data['train_heldout']=='training']\n",
        "val_data = all_train_data[all_train_data['train_heldout']=='heldout']\n",
        "print('Train set: ',np.shape(train_data))\n",
        "print('Validation set: ',np.shape(val_data))"
      ]
    },
    {
      "cell_type": "code",
      "execution_count": 514,
      "metadata": {
        "colab": {
          "base_uri": "https://localhost:8080/",
          "height": 537
        },
        "id": "hJsr6UxFSJIr",
        "outputId": "6a1fa186-7f6f-40f3-fbb0-aa933ed0958e"
      },
      "outputs": [
        {
          "data": {
            "text/html": [
              "\n",
              "  <div id=\"df-ac0d3452-ace7-469e-be8f-160f3c2e358d\">\n",
              "    <div class=\"colab-df-container\">\n",
              "      <div>\n",
              "<style scoped>\n",
              "    .dataframe tbody tr th:only-of-type {\n",
              "        vertical-align: middle;\n",
              "    }\n",
              "\n",
              "    .dataframe tbody tr th {\n",
              "        vertical-align: top;\n",
              "    }\n",
              "\n",
              "    .dataframe thead th {\n",
              "        text-align: right;\n",
              "    }\n",
              "</style>\n",
              "<table border=\"1\" class=\"dataframe\">\n",
              "  <thead>\n",
              "    <tr style=\"text-align: right;\">\n",
              "      <th></th>\n",
              "      <th>Episode</th>\n",
              "      <th>Scene</th>\n",
              "      <th>Scene_info</th>\n",
              "      <th>Character_name</th>\n",
              "      <th>Line</th>\n",
              "      <th>Gender</th>\n",
              "      <th>episode_scene</th>\n",
              "      <th>train_heldout</th>\n",
              "    </tr>\n",
              "  </thead>\n",
              "  <tbody>\n",
              "    <tr>\n",
              "      <th>0</th>\n",
              "      <td>1350</td>\n",
              "      <td>1</td>\n",
              "      <td>DESERTED CAR PARK EXT NIGHT</td>\n",
              "      <td>SHIRLEY</td>\n",
              "      <td>Look at ya, not a mark on ya. And you think you're an unlucky man.</td>\n",
              "      <td>FEMALE</td>\n",
              "      <td>1350-1</td>\n",
              "      <td>training</td>\n",
              "    </tr>\n",
              "    <tr>\n",
              "      <th>1</th>\n",
              "      <td>1350</td>\n",
              "      <td>1</td>\n",
              "      <td>DESERTED CAR PARK EXT NIGHT</td>\n",
              "      <td>OTHER</td>\n",
              "      <td>Shirl...</td>\n",
              "      <td>MALE</td>\n",
              "      <td>1350-1</td>\n",
              "      <td>training</td>\n",
              "    </tr>\n",
              "    <tr>\n",
              "      <th>2</th>\n",
              "      <td>1350</td>\n",
              "      <td>2</td>\n",
              "      <td>R&amp;R INT NIGHT</td>\n",
              "      <td>JACK</td>\n",
              "      <td>Oi. Where have you been? Huh? What were the texts about?</td>\n",
              "      <td>MALE</td>\n",
              "      <td>1350-2</td>\n",
              "      <td>training</td>\n",
              "    </tr>\n",
              "    <tr>\n",
              "      <th>3</th>\n",
              "      <td>1350</td>\n",
              "      <td>2</td>\n",
              "      <td>R&amp;R INT NIGHT</td>\n",
              "      <td>RONNIE</td>\n",
              "      <td>Nothing. Nothing. I'll be with you in two minutes yeah?</td>\n",
              "      <td>FEMALE</td>\n",
              "      <td>1350-2</td>\n",
              "      <td>training</td>\n",
              "    </tr>\n",
              "    <tr>\n",
              "      <th>4</th>\n",
              "      <td>1350</td>\n",
              "      <td>2</td>\n",
              "      <td>R&amp;R INT NIGHT</td>\n",
              "      <td>JACK</td>\n",
              "      <td>Well I've got mates here I wanted to have a chat with them, instead I've been serving behind the bar.</td>\n",
              "      <td>MALE</td>\n",
              "      <td>1350-2</td>\n",
              "      <td>training</td>\n",
              "    </tr>\n",
              "    <tr>\n",
              "      <th>...</th>\n",
              "      <td>...</td>\n",
              "      <td>...</td>\n",
              "      <td>...</td>\n",
              "      <td>...</td>\n",
              "      <td>...</td>\n",
              "      <td>...</td>\n",
              "      <td>...</td>\n",
              "      <td>...</td>\n",
              "    </tr>\n",
              "    <tr>\n",
              "      <th>15314</th>\n",
              "      <td>1399</td>\n",
              "      <td>55</td>\n",
              "      <td>SQUARE EXT DAY LIGHT</td>\n",
              "      <td>OTHER</td>\n",
              "      <td>Dad? Okay ... alright, just one drink alright. But that's all. It doesn't mean anything. It's just a drink.</td>\n",
              "      <td>MALE</td>\n",
              "      <td>1399-55</td>\n",
              "      <td>training</td>\n",
              "    </tr>\n",
              "    <tr>\n",
              "      <th>15315</th>\n",
              "      <td>1399</td>\n",
              "      <td>55</td>\n",
              "      <td>SQUARE EXT DAY LIGHT</td>\n",
              "      <td>MAX</td>\n",
              "      <td>Thanks Bradley. Thanks mate... It means the world to me...</td>\n",
              "      <td>MALE</td>\n",
              "      <td>1399-55</td>\n",
              "      <td>training</td>\n",
              "    </tr>\n",
              "    <tr>\n",
              "      <th>15316</th>\n",
              "      <td>1399</td>\n",
              "      <td>55</td>\n",
              "      <td>SQUARE EXT DAY LIGHT</td>\n",
              "      <td>OTHER</td>\n",
              "      <td>You alright...</td>\n",
              "      <td>MALE</td>\n",
              "      <td>1399-55</td>\n",
              "      <td>training</td>\n",
              "    </tr>\n",
              "    <tr>\n",
              "      <th>15317</th>\n",
              "      <td>1399</td>\n",
              "      <td>55</td>\n",
              "      <td>SQUARE EXT DAY LIGHT</td>\n",
              "      <td>MAX</td>\n",
              "      <td>Yeah, yeah, yeah. I'm fine.</td>\n",
              "      <td>MALE</td>\n",
              "      <td>1399-55</td>\n",
              "      <td>training</td>\n",
              "    </tr>\n",
              "    <tr>\n",
              "      <th>15318</th>\n",
              "      <td>1399</td>\n",
              "      <td>55</td>\n",
              "      <td>SQUARE EXT DAY LIGHT</td>\n",
              "      <td>OTHER</td>\n",
              "      <td>Well, let me know.</td>\n",
              "      <td>MALE</td>\n",
              "      <td>1399-55</td>\n",
              "      <td>training</td>\n",
              "    </tr>\n",
              "  </tbody>\n",
              "</table>\n",
              "<p>13638 rows × 8 columns</p>\n",
              "</div>\n",
              "      <button class=\"colab-df-convert\" onclick=\"convertToInteractive('df-ac0d3452-ace7-469e-be8f-160f3c2e358d')\"\n",
              "              title=\"Convert this dataframe to an interactive table.\"\n",
              "              style=\"display:none;\">\n",
              "        \n",
              "  <svg xmlns=\"http://www.w3.org/2000/svg\" height=\"24px\"viewBox=\"0 0 24 24\"\n",
              "       width=\"24px\">\n",
              "    <path d=\"M0 0h24v24H0V0z\" fill=\"none\"/>\n",
              "    <path d=\"M18.56 5.44l.94 2.06.94-2.06 2.06-.94-2.06-.94-.94-2.06-.94 2.06-2.06.94zm-11 1L8.5 8.5l.94-2.06 2.06-.94-2.06-.94L8.5 2.5l-.94 2.06-2.06.94zm10 10l.94 2.06.94-2.06 2.06-.94-2.06-.94-.94-2.06-.94 2.06-2.06.94z\"/><path d=\"M17.41 7.96l-1.37-1.37c-.4-.4-.92-.59-1.43-.59-.52 0-1.04.2-1.43.59L10.3 9.45l-7.72 7.72c-.78.78-.78 2.05 0 2.83L4 21.41c.39.39.9.59 1.41.59.51 0 1.02-.2 1.41-.59l7.78-7.78 2.81-2.81c.8-.78.8-2.07 0-2.86zM5.41 20L4 18.59l7.72-7.72 1.47 1.35L5.41 20z\"/>\n",
              "  </svg>\n",
              "      </button>\n",
              "      \n",
              "  <style>\n",
              "    .colab-df-container {\n",
              "      display:flex;\n",
              "      flex-wrap:wrap;\n",
              "      gap: 12px;\n",
              "    }\n",
              "\n",
              "    .colab-df-convert {\n",
              "      background-color: #E8F0FE;\n",
              "      border: none;\n",
              "      border-radius: 50%;\n",
              "      cursor: pointer;\n",
              "      display: none;\n",
              "      fill: #1967D2;\n",
              "      height: 32px;\n",
              "      padding: 0 0 0 0;\n",
              "      width: 32px;\n",
              "    }\n",
              "\n",
              "    .colab-df-convert:hover {\n",
              "      background-color: #E2EBFA;\n",
              "      box-shadow: 0px 1px 2px rgba(60, 64, 67, 0.3), 0px 1px 3px 1px rgba(60, 64, 67, 0.15);\n",
              "      fill: #174EA6;\n",
              "    }\n",
              "\n",
              "    [theme=dark] .colab-df-convert {\n",
              "      background-color: #3B4455;\n",
              "      fill: #D2E3FC;\n",
              "    }\n",
              "\n",
              "    [theme=dark] .colab-df-convert:hover {\n",
              "      background-color: #434B5C;\n",
              "      box-shadow: 0px 1px 3px 1px rgba(0, 0, 0, 0.15);\n",
              "      filter: drop-shadow(0px 1px 2px rgba(0, 0, 0, 0.3));\n",
              "      fill: #FFFFFF;\n",
              "    }\n",
              "  </style>\n",
              "\n",
              "      <script>\n",
              "        const buttonEl =\n",
              "          document.querySelector('#df-ac0d3452-ace7-469e-be8f-160f3c2e358d button.colab-df-convert');\n",
              "        buttonEl.style.display =\n",
              "          google.colab.kernel.accessAllowed ? 'block' : 'none';\n",
              "\n",
              "        async function convertToInteractive(key) {\n",
              "          const element = document.querySelector('#df-ac0d3452-ace7-469e-be8f-160f3c2e358d');\n",
              "          const dataTable =\n",
              "            await google.colab.kernel.invokeFunction('convertToInteractive',\n",
              "                                                     [key], {});\n",
              "          if (!dataTable) return;\n",
              "\n",
              "          const docLinkHtml = 'Like what you see? Visit the ' +\n",
              "            '<a target=\"_blank\" href=https://colab.research.google.com/notebooks/data_table.ipynb>data table notebook</a>'\n",
              "            + ' to learn more about interactive tables.';\n",
              "          element.innerHTML = '';\n",
              "          dataTable['output_type'] = 'display_data';\n",
              "          await google.colab.output.renderOutput(dataTable, element);\n",
              "          const docLink = document.createElement('div');\n",
              "          docLink.innerHTML = docLinkHtml;\n",
              "          element.appendChild(docLink);\n",
              "        }\n",
              "      </script>\n",
              "    </div>\n",
              "  </div>\n",
              "  "
            ],
            "text/plain": [
              "       Episode  Scene                   Scene_info Character_name  \\\n",
              "0         1350      1  DESERTED CAR PARK EXT NIGHT        SHIRLEY   \n",
              "1         1350      1  DESERTED CAR PARK EXT NIGHT          OTHER   \n",
              "2         1350      2                R&R INT NIGHT           JACK   \n",
              "3         1350      2                R&R INT NIGHT         RONNIE   \n",
              "4         1350      2                R&R INT NIGHT           JACK   \n",
              "...        ...    ...                          ...            ...   \n",
              "15314     1399     55         SQUARE EXT DAY LIGHT          OTHER   \n",
              "15315     1399     55         SQUARE EXT DAY LIGHT            MAX   \n",
              "15316     1399     55         SQUARE EXT DAY LIGHT          OTHER   \n",
              "15317     1399     55         SQUARE EXT DAY LIGHT            MAX   \n",
              "15318     1399     55         SQUARE EXT DAY LIGHT          OTHER   \n",
              "\n",
              "                                                                                                              Line  \\\n",
              "0                                               Look at ya, not a mark on ya. And you think you're an unlucky man.   \n",
              "1                                                                                                         Shirl...   \n",
              "2                                                         Oi. Where have you been? Huh? What were the texts about?   \n",
              "3                                                          Nothing. Nothing. I'll be with you in two minutes yeah?   \n",
              "4            Well I've got mates here I wanted to have a chat with them, instead I've been serving behind the bar.   \n",
              "...                                                                                                            ...   \n",
              "15314  Dad? Okay ... alright, just one drink alright. But that's all. It doesn't mean anything. It's just a drink.   \n",
              "15315                                                   Thanks Bradley. Thanks mate... It means the world to me...   \n",
              "15316                                                                                               You alright...   \n",
              "15317                                                                                  Yeah, yeah, yeah. I'm fine.   \n",
              "15318                                                                                           Well, let me know.   \n",
              "\n",
              "       Gender episode_scene train_heldout  \n",
              "0      FEMALE        1350-1      training  \n",
              "1        MALE        1350-1      training  \n",
              "2        MALE        1350-2      training  \n",
              "3      FEMALE        1350-2      training  \n",
              "4        MALE        1350-2      training  \n",
              "...       ...           ...           ...  \n",
              "15314    MALE       1399-55      training  \n",
              "15315    MALE       1399-55      training  \n",
              "15316    MALE       1399-55      training  \n",
              "15317    MALE       1399-55      training  \n",
              "15318    MALE       1399-55      training  \n",
              "\n",
              "[13638 rows x 8 columns]"
            ]
          },
          "execution_count": 514,
          "metadata": {},
          "output_type": "execute_result"
        }
      ],
      "source": [
        "train_data\n",
        "#len(episode_scene_values)"
      ]
    },
    {
      "cell_type": "code",
      "execution_count": 515,
      "metadata": {
        "id": "6XHnb_AWSJIs",
        "tags": []
      },
      "outputs": [],
      "source": [
        "if False:\n",
        "    # A simpler alternative to the above, but where a high split means some characters\n",
        "    # may be left out\n",
        "    print('Raw Data: ',np.shape(all_train_data))\n",
        "    idx = int(0.9 * np.shape(all_train_data)[0])\n",
        "    train_data = all_train_data[:idx]\n",
        "    val_data = all_train_data[idx:]\n",
        "    print('Train set: ',np.shape(train_data))\n",
        "    print('Validation set: ',np.shape(val_data))"
      ]
    },
    {
      "cell_type": "code",
      "execution_count": 516,
      "metadata": {
        "colab": {
          "base_uri": "https://localhost:8080/"
        },
        "id": "y9mCE3LCSJIs",
        "outputId": "096b7984-fee6-4f0e-a033-a09704b7d954"
      },
      "outputs": [
        {
          "name": "stdout",
          "output_type": "stream",
          "text": [
            "['1350-2' '1350-4' '1350-6' ... '1399-48' '1399-51' '1399-55']\n"
          ]
        }
      ],
      "source": [
        "episode_scene_values = all_train_data['episode_scene'].unique()\n",
        "print(episode_scene_values[1:])"
      ]
    },
    {
      "cell_type": "markdown",
      "metadata": {
        "id": "LmXM42foSJIt"
      },
      "source": [
        "On observing the dataset, we can use the line said by another character as before and after context. The line can be extracted using the episode_scene column we added to make sure we only consider the lines from the same scene as context."
      ]
    },
    {
      "cell_type": "code",
      "execution_count": 517,
      "metadata": {
        "id": "m-Lz6AxTSJIt"
      },
      "outputs": [],
      "source": [
        "def get_dialog_context(df):\n",
        "    '''Add before_context and after_context column having the line \n",
        "    said before and after the character's line in the same scene.'''\n",
        "\n",
        "    episode_scene_values = df['episode_scene'].unique()\n",
        "    \n",
        "    before_context = (df[df[\"episode_scene\"]==episode_scene_values[0]]['Line'].shift(1))\n",
        "    after_context = (df[df[\"episode_scene\"]==episode_scene_values[0]]['Line'].shift(-1))\n",
        "    #print(episode_scene_values)\n",
        "    for episode_scene_value in episode_scene_values[1:]:\n",
        "        before = (df[df[\"episode_scene\"]==episode_scene_value]['Line'].shift(1))\n",
        "        after = (df[df[\"episode_scene\"]==episode_scene_value]['Line'].shift(-1))\n",
        "        before_context = pd.concat([before_context,before],ignore_index=True)\n",
        "        after_context = pd.concat([after_context,after],ignore_index=True)\n",
        "    df['before_context'] = before_context\n",
        "    df['after_context'] = after_context\n",
        "    return df"
      ]
    },
    {
      "cell_type": "code",
      "execution_count": 518,
      "metadata": {
        "id": "zBsccBLxSJIt"
      },
      "outputs": [],
      "source": [
        "#display(get_dialog_context(all_train_data))"
      ]
    },
    {
      "cell_type": "code",
      "execution_count": 519,
      "metadata": {
        "id": "w1NBQUMySJIu"
      },
      "outputs": [],
      "source": [
        "# Create one document per character\n",
        "def create_character_document_from_dataframe(df, max_line_count):\n",
        "    \"\"\"Returns a dict with the name of the character as key,\n",
        "    their lines joined together as a single string, with end of line _EOL_\n",
        "    markers between them.\n",
        "    \n",
        "    ::max_line_count:: the maximum number of lines to be added per character\n",
        "    \"\"\"\n",
        "    \n",
        "    #Calling get_dialog_context to add context column in the current dataset\n",
        "    df = get_dialog_context(df)\n",
        "    \n",
        "    character_docs = {}\n",
        "    character_line_count = {}\n",
        "    before_context = {}\n",
        "    after_context = {}\n",
        "    scene_info = {}\n",
        "    extra_features = {}\n",
        "    \n",
        "    for line, name, before, after, scene in zip(df.Line, df.Character_name,df.before_context, df.after_context,df.Scene_info):\n",
        "        if not name in character_docs.keys():\n",
        "            character_docs[name] = \"\"\n",
        "            before_context[name] = \"\"\n",
        "            after_context[name] = \"\"\n",
        "            scene_info[name] = {}\n",
        "            character_line_count[name] = 0\n",
        "        if character_line_count[name]==max_line_count:\n",
        "            continue\n",
        "        character_docs[name] += str(line)   + \" _EOL_ \"  # adding an end-of-line token\n",
        "        character_line_count[name]+=1\n",
        "        \n",
        "        if not scene in scene_info[name].keys():\n",
        "            scene_info[name][scene] = 0\n",
        "        scene_info[name][scene] += 1\n",
        "        \n",
        "        #Checking for nan values because if the line is the first line in scene it will be nan value\n",
        "        if pd.isna(before)==False:\n",
        "            before_context[name] += str(before)   + \" _EOL_ \"\n",
        "        #Checking for nan values because if the line is the last line in scene it will be nan value\n",
        "        if pd.isna(after)==False:\n",
        "            after_context[name] += str(after)   + \" _EOL_ \"\n",
        "            \n",
        "    #Creating extra_features dict using scene_info, before_context and after_context\n",
        "    header = [\"scene_info\",\"before_context\",\"after_context\"]\n",
        "    \n",
        "    for name in before_context:\n",
        "        extra_features[name] = {feat_name: feat_value for feat_name,feat_value in zip(header,[scene_info[name],before_context[name],after_context[name]])}\n",
        "    print(extra_features.keys())    \n",
        "    print(\"lines per character\", character_line_count)\n",
        "    return (character_docs,extra_features)"
      ]
    },
    {
      "cell_type": "code",
      "execution_count": 520,
      "metadata": {
        "colab": {
          "base_uri": "https://localhost:8080/"
        },
        "id": "sjcbzdDeSJIv",
        "outputId": "779db17a-f7e5-48aa-9ffd-6d3ae82e8fa7"
      },
      "outputs": [
        {
          "name": "stderr",
          "output_type": "stream",
          "text": [
            "<ipython-input-517-20e39806fcad>:15: SettingWithCopyWarning: \n",
            "A value is trying to be set on a copy of a slice from a DataFrame.\n",
            "Try using .loc[row_indexer,col_indexer] = value instead\n",
            "\n",
            "See the caveats in the documentation: https://pandas.pydata.org/pandas-docs/stable/user_guide/indexing.html#returning-a-view-versus-a-copy\n",
            "  df['before_context'] = before_context\n",
            "<ipython-input-517-20e39806fcad>:16: SettingWithCopyWarning: \n",
            "A value is trying to be set on a copy of a slice from a DataFrame.\n",
            "Try using .loc[row_indexer,col_indexer] = value instead\n",
            "\n",
            "See the caveats in the documentation: https://pandas.pydata.org/pandas-docs/stable/user_guide/indexing.html#returning-a-view-versus-a-copy\n",
            "  df['after_context'] = after_context\n"
          ]
        },
        {
          "name": "stdout",
          "output_type": "stream",
          "text": [
            "dict_keys(['SHIRLEY', 'OTHER', 'JACK', 'RONNIE', 'TANYA', 'SEAN', 'ROXY', 'HEATHER', 'MAX', 'IAN', 'JANE', 'STACEY', 'PHIL', 'MINTY', 'CHRISTIAN', 'CLARE'])\n",
            "lines per character {'SHIRLEY': 360, 'OTHER': 360, 'JACK': 360, 'RONNIE': 360, 'TANYA': 360, 'SEAN': 360, 'ROXY': 360, 'HEATHER': 360, 'MAX': 360, 'IAN': 360, 'JANE': 360, 'STACEY': 360, 'PHIL': 360, 'MINTY': 360, 'CHRISTIAN': 342, 'CLARE': 352}\n",
            "Num. Characters:  16 \n",
            "\n",
            "SHIRLEY Number of Words:  3848\n",
            "OTHER Number of Words:  3244\n",
            "JACK Number of Words:  4435\n",
            "RONNIE Number of Words:  3442\n",
            "TANYA Number of Words:  3786\n",
            "SEAN Number of Words:  3637\n",
            "ROXY Number of Words:  3838\n",
            "HEATHER Number of Words:  4098\n",
            "MAX Number of Words:  4363\n",
            "IAN Number of Words:  4332\n",
            "JANE Number of Words:  3648\n",
            "STACEY Number of Words:  3913\n",
            "PHIL Number of Words:  3635\n",
            "MINTY Number of Words:  4005\n",
            "CHRISTIAN Number of Words:  3738\n",
            "CLARE Number of Words:  4344\n",
            "total words 62306\n"
          ]
        }
      ],
      "source": [
        "# print out the number of words each character has in the training set\n",
        "# only use the first 360 lines of each character\n",
        "train_character_docs,extra_features = create_character_document_from_dataframe(get_dialog_context(train_data), max_line_count=360)\n",
        "print('Num. Characters: ',len(train_character_docs.keys()),\"\\n\")\n",
        "total_words = 0\n",
        "for name in train_character_docs.keys():\n",
        "    print(name, 'Number of Words: ',len(train_character_docs[name].split()))\n",
        "    total_words += len(train_character_docs[name].split())\n",
        "print(\"total words\", total_words)"
      ]
    },
    {
      "cell_type": "code",
      "execution_count": 521,
      "metadata": {
        "id": "a6Mp7y1GSJIv"
      },
      "outputs": [],
      "source": [
        "#print(train_character_docs)\n",
        "#print(extra_features)"
      ]
    },
    {
      "cell_type": "markdown",
      "metadata": {
        "id": "O05tK_-QSJIw"
      },
      "source": [
        "<h3>Preprocessing</h3>"
      ]
    },
    {
      "cell_type": "code",
      "execution_count": 522,
      "metadata": {
        "colab": {
          "base_uri": "https://localhost:8080/"
        },
        "id": "43bS-6kWSJIw",
        "outputId": "487d3b1c-6d62-4df4-c07d-2e19bb0a7002"
      },
      "outputs": [
        {
          "name": "stderr",
          "output_type": "stream",
          "text": [
            "[nltk_data] Downloading package stopwords to /root/nltk_data...\n",
            "[nltk_data]   Package stopwords is already up-to-date!\n",
            "[nltk_data] Downloading package wordnet to /root/nltk_data...\n",
            "[nltk_data]   Package wordnet is already up-to-date!\n",
            "[nltk_data] Downloading package omw-1.4 to /root/nltk_data...\n",
            "[nltk_data]   Package omw-1.4 is already up-to-date!\n"
          ]
        },
        {
          "data": {
            "text/plain": [
              "True"
            ]
          },
          "execution_count": 522,
          "metadata": {},
          "output_type": "execute_result"
        }
      ],
      "source": [
        "nltk.download('stopwords')\n",
        "nltk.download('wordnet')\n",
        "nltk.download('omw-1.4')"
      ]
    },
    {
      "cell_type": "code",
      "execution_count": 523,
      "metadata": {
        "id": "ihAaouoOSJIw"
      },
      "outputs": [],
      "source": [
        "import re\n",
        "import string\n",
        "from nltk.corpus import stopwords\n",
        "from nltk.stem import WordNetLemmatizer\n",
        "from nltk.stem import PorterStemmer\n",
        "\n",
        "def separating_punctuation(text):\n",
        "    '''Separating out the punctuation'''\n",
        "    text = re.sub(r\"(\\w)([.,;:!?'\\\"”\\)])\", r\"\\1 \\2\", text) # separates punctuation at ends of strings\n",
        "    text = re.sub(r\"([.,;:!?'\\\"“\\(\\)])(\\w)\", r\"\\1 \\2\", text) # separates punctuation at beginning of strings\n",
        "    return text\n",
        "\n",
        "def remove_puntuation(text):\n",
        "    '''Remove punctuation from the lines'''\n",
        "    return re.sub(r'[^\\w\\s]', '', text)\n",
        "\n",
        "def convert_to_lowercase(tokens):\n",
        "    '''Convert all the tokens to lower case''' \n",
        "    return [token.lower() if token.isalpha() else token for token in tokens]\n",
        "\n",
        "def remove_stopwords(tokens):\n",
        "    '''Remove stop words i.e. the words that occur commonly. stopword from nltk is used for this step'''\n",
        "    stopword_list = nltk.corpus.stopwords.words('english')\n",
        "    filtered_tokens = [token for token in tokens if token not in stopword_list]\n",
        "    return filtered_tokens\n",
        "\n",
        "def apply_lemmatization(tokens):\n",
        "    '''Lemmatize the token i.e. switches the word to its base root'''\n",
        "    wnl=WordNetLemmatizer()\n",
        "    tokens = [wnl.lemmatize(token) for token in tokens]\n",
        "    return tokens\n",
        "\n",
        "def apply_stemming(tokens, ps=PorterStemmer()):\n",
        "    '''Stemming the token to reduce it to its base form.'''\n",
        "    return [ps.stem(t) for t in tokens]"
      ]
    },
    {
      "cell_type": "code",
      "execution_count": 524,
      "metadata": {
        "id": "wad0zCSNSJIx"
      },
      "outputs": [],
      "source": [
        "def pre_process(character_text):\n",
        "    \"\"\"Pre-process all the concatenated lines of a character, \n",
        "    using tokenization, spelling normalization and other techniques.\n",
        "    \n",
        "    Initially just a tokenization on white space. Improve this for Q1.\n",
        "    \n",
        "    ::character_text:: a string with all of one character's lines\n",
        "    \"\"\"\n",
        "    #character_text = separating_punctuation(character_text)\n",
        "    \n",
        "    character_text = remove_puntuation(character_text)\n",
        "    \n",
        "    tokens = character_text.split()\n",
        "    \n",
        "    #tokens = convert_to_lowercase(tokens)\n",
        "    \n",
        "    tokens = remove_stopwords(tokens)\n",
        "    \n",
        "    tokens = apply_lemmatization(tokens)\n",
        "    \n",
        "    #tokens = apply_stemming(tokens)\n",
        "    \n",
        "    #print(tokens)\n",
        "    return tokens"
      ]
    },
    {
      "cell_type": "code",
      "execution_count": 525,
      "metadata": {
        "id": "ETp0bw53SJIx"
      },
      "outputs": [],
      "source": [
        "# create list of pairs of (character name, pre-processed character) \n",
        "\n",
        "training_corpus = [(name, pre_process(doc)) for name, doc in sorted(train_character_docs.items())]\n",
        "train_labels = [name for name, doc in training_corpus]\n",
        "#print(extra_features)"
      ]
    },
    {
      "cell_type": "markdown",
      "metadata": {
        "id": "66AMB0dtSJIx"
      },
      "source": [
        "<h3>Feature Extraction</h3>"
      ]
    },
    {
      "cell_type": "code",
      "execution_count": 526,
      "metadata": {
        "id": "URCxdqI7SJIx"
      },
      "outputs": [],
      "source": [
        "#_WEIGHT_ = \"binary\"\n",
        "#_WEIGHT_ = \"weighted\"\n",
        "_WEIGHT_ = \"counts\"\n",
        "_N_ =  2"
      ]
    },
    {
      "cell_type": "code",
      "execution_count": 527,
      "metadata": {
        "id": "lvoSU8TgSJIy"
      },
      "outputs": [],
      "source": [
        "#For adding extra featues\n",
        "add_scene_info = True\n",
        "add_before_context = False\n",
        "add_after_context = False"
      ]
    },
    {
      "cell_type": "code",
      "execution_count": 528,
      "metadata": {
        "id": "VxYq6HMMSJIy"
      },
      "outputs": [],
      "source": [
        "def to_feature_vector_dictionary(character_doc, extra_features):\n",
        "    \"\"\"Converts a list of pre-processed tokens and extra features\n",
        "    to a Dictionary as a function of the tokens.\n",
        "    \n",
        "    ::character_doc:: a list of pre-processed tokens\n",
        "    ::extra_features:: any extra features for the character to be added to feature vector dict\n",
        "    \"\"\"\n",
        "    feature_vector_dict =  Counter()  # local feature vector for counts\n",
        "    tokens = character_doc\n",
        "    # collect the counts for all n in range (1,_N_)\n",
        "    for n in range(1,_N_+1):\n",
        "        new_tokens = [\"<s>\"]*(n-1) + tokens + [\"</s>\"]\n",
        "        \n",
        "        for i in range(n-1, len(new_tokens)):\n",
        "            raw_ngram = \" \".join(new_tokens[i-(n-1):i+1])\n",
        "            #print(raw_ngram)\n",
        "            n_gram = \"{}@{}\".format(n, raw_ngram)\n",
        "            #print(n_gram)\n",
        "            feature_vector_dict[n_gram]+=1\n",
        "    \n",
        "    # if _WEIGHT_ is 'counts' then this has already been done\n",
        "    if _WEIGHT_ == \"binary\":\n",
        "        feature_vector_dict = {x:1 for x in feature_vector_dict.keys()}  # binary Set-of-Words\n",
        "    elif _WEIGHT_ == \"weighted\":\n",
        "        # bag-of-words counts \n",
        "        feature_vector_dict = {x:feature_vector_dict[x]/(len(tokens)+1) for x in feature_vector_dict.keys()}\n",
        "    elif _WEIGHT_ == 'counts':\n",
        "        feature_vector_dict = dict(feature_vector_dict)\n",
        "    \n",
        "    # add scene info counts/weights\n",
        "    if add_scene_info == True:\n",
        "        scene_info = extra_features[\"scene_info\"]\n",
        "        if _WEIGHT_ == \"binary\":\n",
        "            scene_info = {x:1 for x in scene_info.keys()}  # binary Set-of-Words\n",
        "        elif _WEIGHT_ == \"weighted\":\n",
        "            scene_info = {x:scene_info[x]/(len(scene_info)+1) for x in scene_info_counts.keys()}\n",
        "        feature_vector_dict.update(scene_info)\n",
        "        \n",
        "    # add before context counts/weights\n",
        "    if add_before_context == True:\n",
        "        before_context = extra_features[\"before_context\"]\n",
        "        before_context_tokens = pre_process(before_context)\n",
        "        before_context_counts = dict(Counter(before_context_tokens))\n",
        "\n",
        "        before_context_counts = {\"before_context_\" + word : count for word,count in before_context_counts.items()}\n",
        "        if _WEIGHT_ == \"binary\":\n",
        "            before_countext_counts = {x:1 for x in before_context_counts.keys()}  # binary Set-of-Words\n",
        "        elif _WEIGHT_ == \"weighted\":\n",
        "            before_countext_counts = {x:before_context_counts[x]/(len(before_context_tokens)+1) for x in before_context_counts.keys()} \n",
        "        feature_vector_dict.update(before_context_counts)\n",
        "    \n",
        "    # add after context counts/weights\n",
        "    if add_after_context == True:\n",
        "        after_context = extra_features[\"after_context\"]\n",
        "        after_context_tokens = pre_process(after_context)\n",
        "        after_context_counts = dict(Counter(after_context_tokens))\n",
        "        after_context_counts = {\"after_context_\" + word : count for word,count in after_context_counts.items()}\n",
        "        if _WEIGHT_ == \"binary\":\n",
        "            after_context_counts = {x:1 for x in after_context_counts.keys()}  # binary Set-of-Words\n",
        "        elif _WEIGHT_ == \"weighted\":\n",
        "            after_context_counts = {x:after_context_counts[x]/(len(after_context_tokens)+1) for x in after_context_counts.keys()} \n",
        "        feature_vector_dict.update(after_context_counts)\n",
        "    \n",
        "    #print(extra_features.keys())    \n",
        "    #print(feature_vector_dict)    \n",
        "    return feature_vector_dict  "
      ]
    },
    {
      "cell_type": "code",
      "execution_count": 529,
      "metadata": {
        "id": "W07vOyV5SJIz"
      },
      "outputs": [],
      "source": [
        "# counts = [to_feature_vector_dictionary(doc, extra_features[name]) for name, doc in training_corpus]\n",
        "# print(counts)"
      ]
    },
    {
      "cell_type": "code",
      "execution_count": 530,
      "metadata": {
        "id": "kxzOXT4bSJIz"
      },
      "outputs": [],
      "source": [
        "#print(counts[0])"
      ]
    },
    {
      "cell_type": "code",
      "execution_count": 531,
      "metadata": {
        "id": "w6SJl17CSJIz"
      },
      "outputs": [],
      "source": [
        "corpusVectorizer = DictVectorizer()   # corpusVectorizor which will just produce sparse vectors from feature dicts\n",
        "\n",
        "tfidf_transformer = TfidfTransformer()\n",
        "\n",
        "def create_document_matrix_from_corpus(corpus, fitting=False):\n",
        "    \"\"\"Method which fits different vectorizers\n",
        "    on data and returns a matrix.\n",
        "    \n",
        "    Currently just does simple conversion to matrix by vectorizing the dictionary. Improve this for Q3.\n",
        "    \n",
        "    ::corpus:: a list of (class_label, document) pairs.\n",
        "    ::fitting:: a boolean indicating whether to fit/train the vectorizers (should be true on training data)\n",
        "    \"\"\"\n",
        "    # uses the global variable of the corpus Vectorizer to improve things\n",
        "    # if fitting:\n",
        "    #     corpusVectorizer.fit([to_feature_vector_dictionary(doc, extra_features[name]) for name, doc in corpus])\n",
        "    # doc_feature_matrix = corpusVectorizer.transform([to_feature_vector_dictionary(doc, extra_features[name]) for name, doc in corpus])\n",
        "    \n",
        "    #Using tf idf transform to improve the performance\n",
        "    if fitting:\n",
        "        vect_corpus = corpusVectorizer.fit_transform([to_feature_vector_dictionary(doc, extra_features[name]) for name, doc in corpus])\n",
        "        doc_feature_matrix = tfidf_transformer.fit_transform(vect_corpus)\n",
        "    else:\n",
        "        vect_corpus = corpusVectorizer.transform([to_feature_vector_dictionary(doc, extra_features[name]) for name, doc in corpus])    \n",
        "        doc_feature_matrix = tfidf_transformer.transform(vect_corpus)\n",
        "    \n",
        "    #training_feature_matrix[0].toarray()\n",
        "    return doc_feature_matrix\n",
        "\n",
        "training_feature_matrix = create_document_matrix_from_corpus(training_corpus, fitting=True)"
      ]
    },
    {
      "cell_type": "code",
      "execution_count": 532,
      "metadata": {
        "colab": {
          "base_uri": "https://localhost:8080/"
        },
        "id": "iwK4DHXbSJI0",
        "outputId": "47d46f76-0cb9-4ab8-fcb0-fda2430a3b6e"
      },
      "outputs": [
        {
          "data": {
            "text/plain": [
              "<16x29221 sparse matrix of type '<class 'numpy.float64'>'\n",
              "\twith 47085 stored elements in Compressed Sparse Row format>"
            ]
          },
          "execution_count": 532,
          "metadata": {},
          "output_type": "execute_result"
        }
      ],
      "source": [
        "training_feature_matrix"
      ]
    },
    {
      "cell_type": "code",
      "execution_count": 533,
      "metadata": {
        "colab": {
          "base_uri": "https://localhost:8080/"
        },
        "id": "swsqSf7PSJI0",
        "outputId": "a4459bff-e6d8-4e0b-9a75-aab094941f87"
      },
      "outputs": [
        {
          "name": "stdout",
          "output_type": "stream",
          "text": [
            "dict_keys(['TANYA', 'MAX', 'SEAN', 'SHIRLEY', 'OTHER', 'STACEY', 'RONNIE', 'JACK', 'PHIL', 'IAN', 'JANE', 'ROXY', 'HEATHER', 'MINTY', 'CHRISTIAN', 'CLARE'])\n",
            "lines per character {'TANYA': 40, 'MAX': 40, 'SEAN': 35, 'SHIRLEY': 40, 'OTHER': 40, 'STACEY': 40, 'RONNIE': 40, 'JACK': 40, 'PHIL': 40, 'IAN': 40, 'JANE': 40, 'ROXY': 40, 'HEATHER': 40, 'MINTY': 40, 'CHRISTIAN': 40, 'CLARE': 40}\n",
            "Num. Characters:  16 \n",
            "\n",
            "TANYA Num of Words:  438\n",
            "MAX Num of Words:  737\n",
            "SEAN Num of Words:  366\n",
            "SHIRLEY Num of Words:  329\n",
            "OTHER Num of Words:  357\n",
            "STACEY Num of Words:  412\n",
            "RONNIE Num of Words:  464\n",
            "JACK Num of Words:  351\n",
            "PHIL Num of Words:  475\n",
            "IAN Num of Words:  508\n",
            "JANE Num of Words:  458\n",
            "ROXY Num of Words:  392\n",
            "HEATHER Num of Words:  411\n",
            "MINTY Num of Words:  470\n",
            "CHRISTIAN Num of Words:  489\n",
            "CLARE Num of Words:  405\n",
            "total words 7062\n"
          ]
        },
        {
          "name": "stderr",
          "output_type": "stream",
          "text": [
            "<ipython-input-517-20e39806fcad>:15: SettingWithCopyWarning: \n",
            "A value is trying to be set on a copy of a slice from a DataFrame.\n",
            "Try using .loc[row_indexer,col_indexer] = value instead\n",
            "\n",
            "See the caveats in the documentation: https://pandas.pydata.org/pandas-docs/stable/user_guide/indexing.html#returning-a-view-versus-a-copy\n",
            "  df['before_context'] = before_context\n",
            "<ipython-input-517-20e39806fcad>:16: SettingWithCopyWarning: \n",
            "A value is trying to be set on a copy of a slice from a DataFrame.\n",
            "Try using .loc[row_indexer,col_indexer] = value instead\n",
            "\n",
            "See the caveats in the documentation: https://pandas.pydata.org/pandas-docs/stable/user_guide/indexing.html#returning-a-view-versus-a-copy\n",
            "  df['after_context'] = after_context\n"
          ]
        }
      ],
      "source": [
        "# get the validation data- only 40 lines used for each character\n",
        "val_character_docs,extra_features = create_character_document_from_dataframe(val_data, max_line_count=40)\n",
        "print('Num. Characters: ',len(val_character_docs.keys()),\"\\n\")\n",
        "total_words = 0\n",
        "for name in val_character_docs.keys():\n",
        "    print(name, 'Num of Words: ',len(val_character_docs[name].split()))\n",
        "    total_words += len(val_character_docs[name].split())\n",
        "print(\"total words\", total_words)\n",
        "\n",
        "#create list of pairs of (character name, pre-processed character) \n",
        "val_corpus = [(name, pre_process(doc)) for name, doc in sorted(val_character_docs.items())]\n",
        "val_labels = [name for name, doc in val_corpus]"
      ]
    },
    {
      "cell_type": "code",
      "execution_count": 534,
      "metadata": {
        "id": "66bezjAVSJI0"
      },
      "outputs": [],
      "source": [
        "# Just transform the val_feature_matrix, don't fit\n",
        "val_feature_matrix = create_document_matrix_from_corpus(val_corpus, fitting=False)"
      ]
    },
    {
      "cell_type": "code",
      "execution_count": 535,
      "metadata": {
        "colab": {
          "base_uri": "https://localhost:8080/"
        },
        "id": "fiJU3phsSJI0",
        "outputId": "6c941333-6293-4e75-9e21-7d82b935bd12"
      },
      "outputs": [
        {
          "data": {
            "text/plain": [
              "<16x29221 sparse matrix of type '<class 'numpy.float64'>'\n",
              "\twith 4453 stored elements in Compressed Sparse Row format>"
            ]
          },
          "execution_count": 535,
          "metadata": {},
          "output_type": "execute_result"
        }
      ],
      "source": [
        "val_feature_matrix"
      ]
    },
    {
      "cell_type": "code",
      "execution_count": 536,
      "metadata": {
        "id": "0GlCCw88SJI0"
      },
      "outputs": [],
      "source": [
        "def compute_cosine_similarity(v1, v2):\n",
        "    \"\"\"Takes a pair of vectors v1 and v2 (1-d arrays e.g. [0, 0.5, 0.5])\n",
        "    returns the cosine similarity between the vectors\n",
        "    \"\"\"\n",
        "    \n",
        "    # compute cosine similarity manually\n",
        "    manual_cosine_similarity = np.dot(v1, v2)  /(norm(v1) * norm(v2))\n",
        "    \n",
        "    return manual_cosine_similarity"
      ]
    },
    {
      "cell_type": "code",
      "execution_count": 537,
      "metadata": {
        "id": "9IBlOzTsSJI1"
      },
      "outputs": [],
      "source": [
        "def compute_IR_evaluation_scores(train_feature_matrix, test_feature_matrix, train_labels, test_labels):\n",
        "    \"\"\"\n",
        "    Computes an information retrieval based on training data feature matrix and test data feature matrix\n",
        "    returns 4-tuple:\n",
        "    ::mean_rank:: mean of the ranking of the target document in terms of similarity to the query/test document\n",
        "    1 is the best possible score.\n",
        "    ::mean_cosine_similarity:: mean cosine similarity score for the target document vs. the test document of the same class\n",
        "    ::accuracy:: proportion of test documents correctly classified\n",
        "    ::df:: a data frame with all the similarity measures of the test documents vs. train documents\n",
        "    \n",
        "    params:\n",
        "    ::train_feature_matrix:: a numpy matrix N x M shape where N = number of characters M = number of features\n",
        "    ::test_feature_matrix::  a numpy matrix N x M shape where N = number of characters M = number of features\n",
        "    ::train_labels:: a list of character names for the training data in order consistent with train_feature_matrix\n",
        "    ::test_labels:: a list of character names for the test data in order consistent with test_feature_matrix\n",
        "    \"\"\"\n",
        "    rankings = []\n",
        "    all_cosine_similarities = []\n",
        "    pairwise_cosine_similarity = []\n",
        "    pairs = []\n",
        "    correct = 0\n",
        "    for i, target in enumerate(test_labels):\n",
        "        # compare the left out character against the mean\n",
        "        idx = i \n",
        "        fm_1 = test_feature_matrix.toarray()[idx]\n",
        "        all_sims = {}\n",
        "        # print(\"target:\", target)\n",
        "        for j, other in enumerate(train_labels):\n",
        "            fm_2 = train_feature_matrix.toarray()[j]\n",
        "            manual_cosine_similarity = compute_cosine_similarity(fm_1, fm_2)\n",
        "            pairs.append((target, other))\n",
        "            pairwise_cosine_similarity.append(manual_cosine_similarity)\n",
        "            if other == target:\n",
        "                all_cosine_similarities.append(manual_cosine_similarity)\n",
        "            all_sims[other] = manual_cosine_similarity\n",
        "\n",
        "            # print(target, other, manual_cosine_similarity)\n",
        "        sorted_similarities = sorted(all_sims.items(),key=lambda x:x[1],reverse=True)\n",
        "        # print(sorted_similarities)\n",
        "        ranking = {key[0]: rank for rank, key in enumerate(sorted_similarities, 1)}\n",
        "        # print(\"Ranking for target\", ranking[target])\n",
        "        if ranking[target] == 1:\n",
        "            correct += 1\n",
        "        rankings.append(ranking[target])\n",
        "        # print(\"*****\")\n",
        "    mean_rank = np.mean(rankings)\n",
        "    mean_cosine_similarity = np.mean(all_cosine_similarities)\n",
        "    accuracy = correct/len(test_labels)\n",
        "    print(\"mean rank\", np.mean(rankings))\n",
        "    print(\"mean cosine similarity\", mean_cosine_similarity)\n",
        "    print(correct, \"correct out of\", len(test_labels), \"/ accuracy:\", accuracy )\n",
        "    \n",
        "    # get a dafaframe showing all the similarity scores of training vs test docs\n",
        "    df = pd.DataFrame({'doc1': [x[0] for x in pairs], 'doc2': [x[1] for x in pairs],\n",
        "                       'similarity': pairwise_cosine_similarity})\n",
        "\n",
        "    # display characters which are most similar and least similar\n",
        "    df.loc[[df.similarity.values.argmax(), df.similarity.values.argmin()]]\n",
        "    return (mean_rank, mean_cosine_similarity, accuracy, df)"
      ]
    },
    {
      "cell_type": "code",
      "execution_count": 538,
      "metadata": {
        "id": "XoHnLgUcSJI1"
      },
      "outputs": [],
      "source": [
        "def plot_heat_map_similarity(df):\n",
        "    \"\"\"Takes a dataframe with header 'doc1, doc2, similarity'\n",
        "    Plots a heatmap based on the similarity scores.\n",
        "    \"\"\"\n",
        "    test_labels =  sorted(list(set(df.sort_values(['doc1'])['doc1'])))\n",
        "    # add padding 1.0 values to either side\n",
        "    cm = [[1.0,] * (len(test_labels)+2)]\n",
        "    for target in test_labels:\n",
        "        new_row = [1.0]\n",
        "        for x in df.sort_values(['doc1', 'doc2'])[df['doc1']==target]['similarity']:\n",
        "            new_row.append(x)\n",
        "        new_row.append(1.0)\n",
        "        cm.append(new_row)\n",
        "    cm.append([1.0,] * (len(test_labels)+2))\n",
        "    #print(cm)\n",
        "    labels = [\"\"] + test_labels + [\"\"]\n",
        "    fig = plt.figure(figsize=(20,20))\n",
        "    ax = fig.add_subplot(111)\n",
        "    cax = ax.matshow(cm)\n",
        "    plt.title('Similarity matrix between documents as vectors')\n",
        "    fig.colorbar(cax)\n",
        "    ax.set_xticks(np.arange(len(labels)))\n",
        "    ax.set_yticks(np.arange(len(labels)))\n",
        "    ax.set_xticklabels( labels, rotation=45)\n",
        "    ax.set_yticklabels( labels)\n",
        "\n",
        "    for i in range(len(cm)):\n",
        "        for j in range(len(cm)):\n",
        "\n",
        "            text = ax.text(j, i, round(cm[i][j],3),\n",
        "                           ha=\"center\", va=\"center\", color=\"w\")\n",
        "\n",
        "    plt.xlabel('Training Vector Doc')\n",
        "    plt.ylabel('Test Vector Doc')\n",
        "    #fig.tight_layout()\n",
        "    plt.show()"
      ]
    },
    {
      "cell_type": "code",
      "execution_count": 539,
      "metadata": {
        "colab": {
          "base_uri": "https://localhost:8080/"
        },
        "id": "KrpszXIzSJI1",
        "outputId": "f0b45efb-bee6-4efe-d6e5-411bb5da77af"
      },
      "outputs": [
        {
          "name": "stdout",
          "output_type": "stream",
          "text": [
            "mean rank 1.75\n",
            "mean cosine similarity 0.6702491454033326\n",
            "12 correct out of 16 / accuracy: 0.75\n"
          ]
        }
      ],
      "source": [
        "mean_rank, mean_cosine_simliarity, acc, df = compute_IR_evaluation_scores(training_feature_matrix, val_feature_matrix, train_labels, val_labels)"
      ]
    },
    {
      "cell_type": "code",
      "execution_count": 540,
      "metadata": {
        "colab": {
          "base_uri": "https://localhost:8080/",
          "height": 1000
        },
        "id": "FQTw2O-iSJI1",
        "outputId": "72ff08fe-9298-4832-ff9b-4644b2ea1a85"
      },
      "outputs": [
        {
          "data": {
            "image/png": "[encoded data removed]",
            "text/plain": [
              "<Figure size 1440x1440 with 2 Axes>"
            ]
          },
          "metadata": {
            "needs_background": "light"
          },
          "output_type": "display_data"
        }
      ],
      "source": [
        "plot_heat_map_similarity(df)"
      ]
    },
    {
      "cell_type": "markdown",
      "metadata": {
        "id": "U5ixSFe6SJI2"
      },
      "source": [
        "# Q6. Run on final test data  (10 marks)\n",
        "Test your best system using the code below to train on all of the training data (using the first 400 lines per character maximum) and do the final testing on the test file (using the first 40 lines per character maximum).\n",
        "\n",
        "Make any neccessary adjustments such that it runs in the same way as the training/testing regime you developed above- e.g. making sure any transformer objects are initialized before `create_document_matrix_from_corpus` is called. Make sure your best system is left in the notebook and it is clear what the mean rank, accuracy of document selection are on the test data."
      ]
    },
    {
      "cell_type": "code",
      "execution_count": 541,
      "metadata": {
        "colab": {
          "base_uri": "https://localhost:8080/"
        },
        "id": "ymzu9KHFSJI2",
        "outputId": "40e468fc-3317-47c1-90c3-357e024a2670"
      },
      "outputs": [
        {
          "name": "stdout",
          "output_type": "stream",
          "text": [
            "dict_keys(['SHIRLEY', 'OTHER', 'JACK', 'RONNIE', 'TANYA', 'SEAN', 'ROXY', 'HEATHER', 'MAX', 'IAN', 'JANE', 'STACEY', 'PHIL', 'MINTY', 'CHRISTIAN', 'CLARE'])\n",
            "lines per character {'SHIRLEY': 400, 'OTHER': 400, 'JACK': 400, 'RONNIE': 400, 'TANYA': 400, 'SEAN': 400, 'ROXY': 400, 'HEATHER': 400, 'MAX': 400, 'IAN': 400, 'JANE': 400, 'STACEY': 400, 'PHIL': 400, 'MINTY': 400, 'CHRISTIAN': 385, 'CLARE': 400}\n",
            "Num. Characters:  16 \n",
            "\n",
            "SHIRLEY Number of Words:  4233\n",
            "OTHER Number of Words:  3606\n",
            "JACK Number of Words:  4786\n",
            "RONNIE Number of Words:  3872\n",
            "TANYA Number of Words:  4214\n",
            "SEAN Number of Words:  4026\n",
            "ROXY Number of Words:  4200\n",
            "HEATHER Number of Words:  4504\n",
            "MAX Number of Words:  5107\n",
            "IAN Number of Words:  4863\n",
            "JANE Number of Words:  4117\n",
            "STACEY Number of Words:  4325\n",
            "PHIL Number of Words:  4103\n",
            "MINTY Number of Words:  4391\n",
            "CHRISTIAN Number of Words:  4250\n",
            "CLARE Number of Words:  4844\n",
            "total words 69441\n",
            "dict_keys(['SHIRLEY', 'OTHER', 'HEATHER', 'PHIL', 'SEAN', 'TANYA', 'MAX', 'JACK', 'IAN', 'JANE', 'STACEY', 'ROXY', 'RONNIE', 'CHRISTIAN', 'MINTY', 'CLARE'])\n",
            "lines per character {'SHIRLEY': 40, 'OTHER': 40, 'HEATHER': 40, 'PHIL': 40, 'SEAN': 40, 'TANYA': 40, 'MAX': 40, 'JACK': 40, 'IAN': 40, 'JANE': 40, 'STACEY': 40, 'ROXY': 40, 'RONNIE': 40, 'CHRISTIAN': 40, 'MINTY': 40, 'CLARE': 40}\n",
            "Num. Characters:  16 \n",
            "\n",
            "SHIRLEY Number of Words:  373\n",
            "OTHER Number of Words:  453\n",
            "HEATHER Number of Words:  451\n",
            "PHIL Number of Words:  406\n",
            "SEAN Number of Words:  466\n",
            "TANYA Number of Words:  465\n",
            "MAX Number of Words:  494\n",
            "JACK Number of Words:  412\n",
            "IAN Number of Words:  509\n",
            "JANE Number of Words:  414\n",
            "STACEY Number of Words:  634\n",
            "ROXY Number of Words:  392\n",
            "RONNIE Number of Words:  390\n",
            "CHRISTIAN Number of Words:  629\n",
            "MINTY Number of Words:  428\n",
            "CLARE Number of Words:  368\n",
            "total words 7284\n",
            "mean rank 1.375\n",
            "mean cosine similarity 0.6860506600159928\n",
            "10 correct out of 16 / accuracy: 0.625\n"
          ]
        }
      ],
      "source": [
        "# redo on all training data with the first 400 character lines used\n",
        "train_character_docs,extra_features = create_character_document_from_dataframe(all_train_data, max_line_count=400)\n",
        "print('Num. Characters: ',len(train_character_docs.keys()),\"\\n\")\n",
        "total_words = 0\n",
        "for name in train_character_docs.keys():\n",
        "    print(name, 'Number of Words: ',len(train_character_docs[name].split()))\n",
        "    total_words += len(train_character_docs[name].split())\n",
        "print(\"total words\", total_words)\n",
        "\n",
        "training_corpus = [(name, pre_process(doc)) for name, doc in train_character_docs.items()]\n",
        "train_labels = [name for name, doc in training_corpus]\n",
        "\n",
        "corpusVectorizer = DictVectorizer()   # initialize a corpusVectorizor which will output sparse vectors from dicts\n",
        "# Any matrix transformers (e.g. tf-idf transformers) should be initialized here\n",
        "tfidf_transformer = TfidfTransformer()\n",
        "\n",
        "training_feature_matrix = create_document_matrix_from_corpus(training_corpus, fitting=True)\n",
        "\n",
        "# get the test data using 40 lines per character\n",
        "epsiode_scene_column = test_data.Episode.astype(str) + \"-\" + test_data.Scene.astype(str)\n",
        "test_data['episode_scene'] = epsiode_scene_column\n",
        "episode_scenes = sorted(list(set([x for x in epsiode_scene_column.values])))\n",
        "test_character_docs,extra_features = create_character_document_from_dataframe(test_data, max_line_count=40)\n",
        "print('Num. Characters: ',len(test_character_docs.keys()),\"\\n\")\n",
        "total_words = 0\n",
        "for name in test_character_docs.keys():\n",
        "    print(name, 'Number of Words: ',len(test_character_docs[name].split()))\n",
        "    total_words += len(test_character_docs[name].split())\n",
        "print(\"total words\", total_words)\n",
        "\n",
        "# create list of pairs of (character name, pre-processed character) \n",
        "test_corpus = [(name, pre_process(doc)) for name, doc in test_character_docs.items()]\n",
        "test_labels = [name for name, doc in test_corpus]\n",
        "\n",
        "\n",
        "# Just transform the val_feature_matrix, don't fit\n",
        "test_feature_matrix = create_document_matrix_from_corpus(test_corpus, fitting=False)\n",
        "\n",
        "\n",
        "mean_rank, mean_cosine_simliarity, acc, df = compute_IR_evaluation_scores(training_feature_matrix, test_feature_matrix, train_labels, test_labels)"
      ]
    },
    {
      "cell_type": "code",
      "execution_count": 541,
      "metadata": {
        "id": "MGw0l1wASJI2"
      },
      "outputs": [],
      "source": []
    }
  ],
  "metadata": {
    "colab": {
      "provenance": []
    },
    "kernelspec": {
      "display_name": "Python 3 (ipykernel)",
      "language": "python",
      "name": "python3"
    },
    "language_info": {
      "codemirror_mode": {
        "name": "ipython",
        "version": 3
      },
      "file_extension": ".py",
      "mimetype": "text/x-python",
      "name": "python",
      "nbconvert_exporter": "python",
      "pygments_lexer": "ipython3",
      "version": "3.10.6"
    }
  },
  "nbformat": 4,
  "nbformat_minor": 0
}
